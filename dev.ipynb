{
 "cells": [
  {
   "cell_type": "markdown",
   "metadata": {},
   "source": [
    "# Car Racing"
   ]
  },
  {
   "cell_type": "code",
   "execution_count": 1,
   "metadata": {
    "execution": {
     "iopub.execute_input": "2024-06-29T17:43:05.937229Z",
     "iopub.status.busy": "2024-06-29T17:43:05.936977Z",
     "iopub.status.idle": "2024-06-29T17:43:05.944341Z",
     "shell.execute_reply": "2024-06-29T17:43:05.943680Z"
    }
   },
   "outputs": [],
   "source": [
    "# # General\n",
    "import platform\n",
    "assert platform.python_version() == \"3.10.14\"\n",
    "# !pip install 'gymnasium[box2d]'\n",
    "# !pip install 'syne-tune[basic]'\n",
    "# !pip install 'stable-baselines3[extra]'"
   ]
  },
  {
   "cell_type": "code",
   "execution_count": 2,
   "metadata": {
    "execution": {
     "iopub.execute_input": "2024-06-29T17:43:05.947305Z",
     "iopub.status.busy": "2024-06-29T17:43:05.947054Z",
     "iopub.status.idle": "2024-06-29T17:43:08.314510Z",
     "shell.execute_reply": "2024-06-29T17:43:08.313609Z"
    }
   },
   "outputs": [
    {
     "name": "stdout",
     "output_type": "stream",
     "text": [
      "sagemaker.config INFO - Not applying SDK defaults from location: /etc/xdg/sagemaker/config.yaml\n"
     ]
    },
    {
     "name": "stdout",
     "output_type": "stream",
     "text": [
      "sagemaker.config INFO - Not applying SDK defaults from location: /home/adavidho/.config/sagemaker/config.yaml\n"
     ]
    }
   ],
   "source": [
    "import gymnasium as gym\n",
    "import matplotlib.pyplot as plt\n",
    "from syne_tune import Tuner\n",
    "from syne_tune.backend import PythonBackend\n",
    "from syne_tune.experiments import load_experiment\n",
    "from syne_tune.config_space import loguniform, uniform, choice\n",
    "from syne_tune.optimizer.baselines import ASHA\n",
    "from syne_tune.stopping_criterion import StoppingCriterion"
   ]
  },
  {
   "cell_type": "code",
   "execution_count": 3,
   "metadata": {
    "execution": {
     "iopub.execute_input": "2024-06-29T17:43:08.318175Z",
     "iopub.status.busy": "2024-06-29T17:43:08.317795Z",
     "iopub.status.idle": "2024-06-29T17:43:08.321881Z",
     "shell.execute_reply": "2024-06-29T17:43:08.321210Z"
    }
   },
   "outputs": [],
   "source": [
    "# Define the hyperparameter search space\n",
    "config_space = {\n",
    "    \"learning_rate\": loguniform(1e-8, 0.1),\n",
    "    \"tau\":  loguniform(1e-8, 1),\n",
    "    \"gamma\": uniform(0.9, 0.999),    \n",
    "    \"steps\": 100000 # TODO increase\n",
    "}"
   ]
  },
  {
   "cell_type": "code",
   "execution_count": 4,
   "metadata": {
    "execution": {
     "iopub.execute_input": "2024-06-29T17:43:08.324795Z",
     "iopub.status.busy": "2024-06-29T17:43:08.324530Z",
     "iopub.status.idle": "2024-06-29T17:43:08.331833Z",
     "shell.execute_reply": "2024-06-29T17:43:08.331082Z"
    }
   },
   "outputs": [],
   "source": [
    "# Define the tuning function\n",
    "def train_hpo_model(learning_rate: float, tau: float, gamma: float, steps: int):\n",
    "    # Worker imports\n",
    "    import numpy as np\n",
    "    from stable_baselines3.common.env_util import make_vec_env\n",
    "    from stable_baselines3.common.evaluation import evaluate_policy\n",
    "    from stable_baselines3.common.callbacks import BaseCallback\n",
    "    from stable_baselines3.common.noise import NormalActionNoise\n",
    "    from stable_baselines3 import TD3\n",
    "    \n",
    "    from syne_tune import Reporter\n",
    "\n",
    "    # Create the vectorized environment\n",
    "    env_id = \"CarRacing-v2\"\n",
    "    vec_env = make_vec_env(env_id, n_envs=4)\n",
    "    \n",
    "    # Initialize the PPO agent with the given hyperparameters\n",
    "    n_actions = vec_env.action_space.shape[-1]\n",
    "    action_noise = NormalActionNoise(mean=np.zeros(n_actions), sigma=0.1 * np.ones(n_actions))  \n",
    "    model = TD3(\"CnnPolicy\", vec_env,  \n",
    "                action_noise=action_noise,\n",
    "                learning_rate=learning_rate,\n",
    "                tau=tau,\n",
    "                gamma=gamma,\n",
    "                batch_size=32,\n",
    "                verbose=1)\n",
    "\n",
    "    report = Reporter()\n",
    "    class WorkerCallback(BaseCallback):\n",
    "        def _on_step(self) -> bool:\n",
    "            # Log the mean reward\n",
    "            mean_reward = sum(self.locals[\"rewards\"]) / len(self.locals[\"rewards\"])\n",
    "            step = self.locals[\"num_collected_steps\"]\n",
    "            report(step=step, mean_reward=mean_reward)\n",
    "            return True \n",
    "    \n",
    "    # Train the agent\n",
    "    worker_callback = WorkerCallback()\n",
    "    model.learn(total_timesteps=steps, callback=worker_callback)"
   ]
  },
  {
   "cell_type": "code",
   "execution_count": 5,
   "metadata": {
    "execution": {
     "iopub.execute_input": "2024-06-29T17:43:08.334825Z",
     "iopub.status.busy": "2024-06-29T17:43:08.334572Z",
     "iopub.status.idle": "2024-06-29T17:43:08.341798Z",
     "shell.execute_reply": "2024-06-29T17:43:08.341012Z"
    }
   },
   "outputs": [],
   "source": [
    "metric = \"mean_reward\"\n",
    "scheduler = ASHA(\n",
    "    config_space,\n",
    "    metric=metric,\n",
    "    max_resource_attr=\"steps\",\n",
    "    resource_attr=\"step\",\n",
    "    mode=\"max\",\n",
    ")\n",
    "trial_backend = PythonBackend(\n",
    "    tune_function=train_hpo_model, config_space=config_space\n",
    ")\n",
    "stop_criterion = StoppingCriterion(\n",
    "    max_wallclock_time=1800, \n",
    ")\n",
    "tuner = Tuner(\n",
    "    trial_backend=trial_backend,\n",
    "    scheduler=scheduler,\n",
    "    stop_criterion=stop_criterion,\n",
    "    n_workers=8,\n",
    "    save_tuner=False,\n",
    "    wait_trial_completion_when_stopping=True,\n",
    ")"
   ]
  },
  {
   "cell_type": "code",
   "execution_count": 6,
   "metadata": {
    "execution": {
     "iopub.execute_input": "2024-06-29T17:43:08.344646Z",
     "iopub.status.busy": "2024-06-29T17:43:08.344380Z",
     "iopub.status.idle": "2024-06-29T18:38:19.933184Z",
     "shell.execute_reply": "2024-06-29T18:38:19.932094Z"
    }
   },
   "outputs": [
    {
     "name": "stdout",
     "output_type": "stream",
     "text": [
      "--------------------\n",
      "Resource summary (last result is reported):\n",
      " trial_id    status  iter  learning_rate          tau    gamma  steps  step  mean_reward  worker-time\n",
      "        0 Completed 25000   3.162278e-05 1.000000e-04 0.949500 100000     1    -0.100000  1534.029914\n",
      "        1 Completed 25000   2.608652e-02 4.459980e-06 0.994957 100000     1    -0.100000  1483.139701\n",
      "        2   Stopped    26   9.665928e-02 4.096052e-02 0.985687 100000     1     0.744595     1.622826\n",
      "        3   Stopped    26   2.024949e-07 1.190156e-06 0.974795 100000     1    -0.100000     1.625575\n",
      "        4 Completed 25000   9.361879e-07 2.460509e-03 0.950723 100000     1    -0.100000  1616.216955\n",
      "        5 Completed 25000   3.572324e-07 4.242431e-04 0.929951 100000     1    -0.100000  1535.470439\n",
      "        6   Stopped    26   2.245840e-02 4.473014e-08 0.937820 100000     1    -0.100000     1.642087\n",
      "        7   Stopped    26   1.140124e-04 1.346816e-07 0.983634 100000     1    -0.100000     1.640366\n",
      "        8 Completed 25000   1.406094e-03 2.378279e-05 0.914570 100000     1    -0.100000  1499.028343\n",
      "        9   Stopped    53   2.176015e-02 4.907755e-03 0.959587 100000     1    -0.100000     3.398124\n",
      "       10   Stopped    53   2.883373e-03 2.687826e-05 0.928456 100000     1    -0.100000     3.453020\n",
      "       11 Completed 25000   1.071030e-08 1.468925e-06 0.900607 100000     1    -0.100000  1509.473841\n",
      "       12   Stopped    55   8.185001e-03 3.242853e-02 0.932232 100000     1    -0.100000     3.596391\n",
      "       13 Completed 25000   1.919090e-08 5.567757e-08 0.965119 100000     1    -0.100000  1498.350485\n",
      "       14   Stopped    57   3.778120e-07 5.692982e-08 0.943903 100000     1    -0.100000     3.681688\n",
      "       15   Stopped    60   3.181631e-06 7.883888e-06 0.942906 100000     1     1.553695     3.802726\n",
      "       16   Stopped    62   4.475191e-02 1.678939e-02 0.970546 100000     1    -0.100000     3.934231\n",
      "       17 Completed 25000   1.525631e-07 2.186496e-06 0.972025 100000     1    -0.100000  1508.282096\n",
      "       18   Stopped     3   8.269229e-05 6.547287e-01 0.932595 100000     1    -0.100000     0.280698\n",
      "       19   Stopped     3   4.036796e-07 3.307545e-07 0.970805 100000     1    -0.100000     0.282257\n",
      "       20   Stopped    65   1.322947e-03 6.443304e-05 0.967473 100000     1    -0.100000     4.212081\n",
      "       21   Stopped   155   2.431408e-06 3.627446e-07 0.995761 100000     1    -0.100000     9.208294\n",
      "       22   Stopped   148   7.386907e-06 1.266993e-04 0.955022 100000     1    -0.100000     9.214373\n",
      "       23   Stopped   144   8.502285e-04 6.254962e-05 0.919269 100000     1    -0.100000     9.149423\n",
      "       24   Stopped   149   2.041140e-07 8.087320e-05 0.931905 100000     1    -0.100000     9.147047\n",
      "       25   Stopped    54   6.092836e-02 1.064533e-05 0.992423 100000     1    -0.100000     3.523999\n",
      "       26   Stopped    53   2.880000e-08 3.432829e-08 0.995830 100000     1    -0.100000     3.517932\n",
      "       27 Completed 25000   4.849398e-07 1.467998e-01 0.955203 100000     1    -0.100000  1523.275036\n",
      "       28   Stopped    53   6.329747e-02 3.559216e-02 0.991917 100000     1    -0.100000     3.508172\n",
      "       29   Stopped    68   3.584825e-02 8.955430e-05 0.968960 100000     1    -0.100000     4.169376\n",
      "       30 Completed 25000   6.870666e-04 1.170136e-08 0.967562 100000     1    -0.100000  1584.783390\n",
      "       31   Stopped    60   4.205417e-04 2.667624e-03 0.956546 100000     1    -0.100000     3.946754\n",
      "       32   Stopped    57   1.359096e-07 2.109578e-08 0.971056 100000     1    -0.100000     3.718258\n",
      "       33   Stopped    57   1.262504e-06 2.534779e-07 0.980344 100000     1    -0.100000     3.725739\n",
      "       34   Stopped    65   3.134513e-06 2.685442e-03 0.933525 100000     1    -0.100000     4.088596\n",
      "       35   Stopped    60   2.989943e-08 1.600558e-05 0.908141 100000     1    -0.100000     3.857091\n",
      "       36   Stopped    60   6.203197e-06 8.119174e-01 0.903437 100000     1    -0.100000     3.964088\n",
      "       37   Stopped    60   6.429467e-08 3.107819e-06 0.901693 100000     1    -0.100000     3.942889\n",
      "       38   Stopped    54   4.992267e-08 9.500146e-07 0.955685 100000     1    -0.100000     3.451855\n",
      "       39   Stopped    52   1.836685e-03 9.614811e-01 0.951584 100000     1    -0.100000     3.451464\n",
      "       40   Stopped    53   2.162904e-05 3.989142e-06 0.963433 100000     1    -0.100000     3.473209\n",
      "       41 Completed 25000   1.609194e-03 2.871169e-03 0.938228 100000     1    -0.100000  1527.471617\n",
      "       42   Stopped    52   2.958386e-06 1.503942e-05 0.925326 100000     1    -0.100000     3.478200\n",
      "       43   Stopped    55   2.799900e-05 1.119905e-02 0.989084 100000     1    -0.100000     3.616320\n",
      "       44   Stopped    58   2.068373e-03 3.710365e-01 0.932620 100000     1    -0.100000     3.593064\n",
      "       45 Completed 25000   4.156941e-07 1.749916e-05 0.920976 100000     1    -0.100000  1556.919238\n",
      "       46   Stopped    54   4.597194e-08 1.164642e-07 0.924226 100000     1    -0.100000     3.584612\n",
      "       47 Completed 25000   1.354876e-08 6.557778e-05 0.992887 100000     1    -0.100000  1462.183813\n",
      "       48   Stopped    57   2.019868e-04 3.495156e-07 0.923372 100000     1     0.671605     3.783237\n",
      "       49   Stopped    58   2.796560e-05 1.257299e-07 0.960284 100000     1    -0.100000     3.782870\n",
      "       50   Stopped    53   2.915751e-05 2.569654e-01 0.987305 100000     1    -0.100000     3.504733\n",
      "       51   Stopped    55   1.356752e-06 1.836768e-04 0.986492 100000     1    -0.100000     3.548220\n",
      "       52   Stopped    52   1.176573e-02 1.869028e-05 0.967879 100000     1    -0.100000     3.493943\n",
      "       53 Completed 25000   3.243698e-02 5.038245e-02 0.992028 100000     1    -0.100000  1493.813115\n",
      "       54   Stopped    53   8.027262e-04 3.090447e-08 0.913847 100000     1    -0.100000     3.523444\n",
      "       55   Stopped    55   5.004827e-04 2.243130e-08 0.910198 100000     1    -0.100000     3.543781\n",
      "       56   Stopped    53   1.112037e-05 1.416822e-03 0.935299 100000     1    -0.100000     3.568575\n",
      "       57   Stopped    54   1.553838e-08 3.628508e-01 0.977325 100000     1    -0.100000     3.579137\n",
      "       58 Completed 25000   3.339763e-06 4.490135e-08 0.911573 100000     1    -0.100000  1589.504960\n",
      "       59 Completed 25000   6.855479e-07 9.315671e-04 0.962398 100000     1    -0.100000  1557.387776\n",
      "0 trials running, 60 finished (16 until the end), 3301.29s wallclock-time\n",
      "\n",
      "mean_reward: best 7.686551213264465 for trial-id 30\n",
      "--------------------\n"
     ]
    }
   ],
   "source": [
    "# Start hyperparameter tuning\n",
    "tuner.run()"
   ]
  },
  {
   "cell_type": "code",
   "execution_count": 7,
   "metadata": {
    "execution": {
     "iopub.execute_input": "2024-06-29T18:38:19.937114Z",
     "iopub.status.busy": "2024-06-29T18:38:19.936675Z",
     "iopub.status.idle": "2024-06-29T18:38:25.624030Z",
     "shell.execute_reply": "2024-06-29T18:38:25.623055Z"
    }
   },
   "outputs": [
    {
     "data": {
      "text/plain": [
       "{'step': 1,\n",
       " 'mean_reward': 7.686551213264465,\n",
       " 'trial_id': 30,\n",
       " 'config_learning_rate': 0.0006870666329035,\n",
       " 'config_tau': 1.1701360615400289e-08,\n",
       " 'config_gamma': 0.967562143466215,\n",
       " 'config_steps': 100000}"
      ]
     },
     "execution_count": 7,
     "metadata": {},
     "output_type": "execute_result"
    }
   ],
   "source": [
    "# Get results\n",
    "tuner_path = tuner.tuner_path\n",
    "tuning_experiment = load_experiment(tuner_path)\n",
    "tuning_experiment.results.to_csv(\"tuning_results.csv\")\n",
    "tuning_experiment.best_config()\n"
   ]
  },
  {
   "cell_type": "code",
   "execution_count": null,
   "metadata": {},
   "outputs": [],
   "source": []
  }
 ],
 "metadata": {
  "kernelspec": {
   "display_name": "rl",
   "language": "python",
   "name": "python3"
  },
  "language_info": {
   "codemirror_mode": {
    "name": "ipython",
    "version": 3
   },
   "file_extension": ".py",
   "mimetype": "text/x-python",
   "name": "python",
   "nbconvert_exporter": "python",
   "pygments_lexer": "ipython3",
   "version": "3.10.14"
  }
 },
 "nbformat": 4,
 "nbformat_minor": 2
}
